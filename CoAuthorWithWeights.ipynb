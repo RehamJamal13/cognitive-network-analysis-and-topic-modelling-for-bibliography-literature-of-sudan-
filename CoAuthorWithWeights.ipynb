{
  "nbformat": 4,
  "nbformat_minor": 0,
  "metadata": {
    "colab": {
      "provenance": [],
      "collapsed_sections": [
        "_fn78BVHEFno",
        "dGe3JKeYolN9",
        "MzprCbcWpgQ0"
      ],
      "include_colab_link": true
    },
    "kernelspec": {
      "name": "python3",
      "display_name": "Python 3"
    },
    "language_info": {
      "name": "python"
    },
    "widgets": {
      "application/vnd.jupyter.widget-state+json": {
        "288470811cb0407ca0f4b13a67374bc7": {
          "model_module": "@jupyter-widgets/controls",
          "model_name": "HBoxModel",
          "model_module_version": "1.5.0",
          "state": {
            "_dom_classes": [],
            "_model_module": "@jupyter-widgets/controls",
            "_model_module_version": "1.5.0",
            "_model_name": "HBoxModel",
            "_view_count": null,
            "_view_module": "@jupyter-widgets/controls",
            "_view_module_version": "1.5.0",
            "_view_name": "HBoxView",
            "box_style": "",
            "children": [
              "IPY_MODEL_69b5c7fce5574776b3c3c49c712c77ae",
              "IPY_MODEL_3e61594e799d4a4bbd1a1a314c0e34c0",
              "IPY_MODEL_38ba47f0e39e4e4eaa15ee121397f3e9"
            ],
            "layout": "IPY_MODEL_bfbbf256cfc54b3a9584109a71972dbc"
          }
        },
        "69b5c7fce5574776b3c3c49c712c77ae": {
          "model_module": "@jupyter-widgets/controls",
          "model_name": "HTMLModel",
          "model_module_version": "1.5.0",
          "state": {
            "_dom_classes": [],
            "_model_module": "@jupyter-widgets/controls",
            "_model_module_version": "1.5.0",
            "_model_name": "HTMLModel",
            "_view_count": null,
            "_view_module": "@jupyter-widgets/controls",
            "_view_module_version": "1.5.0",
            "_view_name": "HTMLView",
            "description": "",
            "description_tooltip": null,
            "layout": "IPY_MODEL_ea5501f7060a4a92bc5c9c9efb43f796",
            "placeholder": "​",
            "style": "IPY_MODEL_85879800466e4f8fb22fe74e54bb3c53",
            "value": "Iterating Nodes: "
          }
        },
        "3e61594e799d4a4bbd1a1a314c0e34c0": {
          "model_module": "@jupyter-widgets/controls",
          "model_name": "FloatProgressModel",
          "model_module_version": "1.5.0",
          "state": {
            "_dom_classes": [],
            "_model_module": "@jupyter-widgets/controls",
            "_model_module_version": "1.5.0",
            "_model_name": "FloatProgressModel",
            "_view_count": null,
            "_view_module": "@jupyter-widgets/controls",
            "_view_module_version": "1.5.0",
            "_view_name": "ProgressView",
            "bar_style": "success",
            "description": "",
            "description_tooltip": null,
            "layout": "IPY_MODEL_6260488cec794bef9cd4f5108122b598",
            "max": 1,
            "min": 0,
            "orientation": "horizontal",
            "style": "IPY_MODEL_7d4e83950d774449b372f608cbc2be4d",
            "value": 0
          }
        },
        "38ba47f0e39e4e4eaa15ee121397f3e9": {
          "model_module": "@jupyter-widgets/controls",
          "model_name": "HTMLModel",
          "model_module_version": "1.5.0",
          "state": {
            "_dom_classes": [],
            "_model_module": "@jupyter-widgets/controls",
            "_model_module_version": "1.5.0",
            "_model_name": "HTMLModel",
            "_view_count": null,
            "_view_module": "@jupyter-widgets/controls",
            "_view_module_version": "1.5.0",
            "_view_name": "HTMLView",
            "description": "",
            "description_tooltip": null,
            "layout": "IPY_MODEL_38d886b4cf49403ca282d39dc9549705",
            "placeholder": "​",
            "style": "IPY_MODEL_2b86e8a4c8ea4e159fc3b5f65f8ebb6e",
            "value": " 0/0 [00:00&lt;?, ?it/s]"
          }
        },
        "bfbbf256cfc54b3a9584109a71972dbc": {
          "model_module": "@jupyter-widgets/base",
          "model_name": "LayoutModel",
          "model_module_version": "1.2.0",
          "state": {
            "_model_module": "@jupyter-widgets/base",
            "_model_module_version": "1.2.0",
            "_model_name": "LayoutModel",
            "_view_count": null,
            "_view_module": "@jupyter-widgets/base",
            "_view_module_version": "1.2.0",
            "_view_name": "LayoutView",
            "align_content": null,
            "align_items": null,
            "align_self": null,
            "border": null,
            "bottom": null,
            "display": null,
            "flex": null,
            "flex_flow": null,
            "grid_area": null,
            "grid_auto_columns": null,
            "grid_auto_flow": null,
            "grid_auto_rows": null,
            "grid_column": null,
            "grid_gap": null,
            "grid_row": null,
            "grid_template_areas": null,
            "grid_template_columns": null,
            "grid_template_rows": null,
            "height": null,
            "justify_content": null,
            "justify_items": null,
            "left": null,
            "margin": null,
            "max_height": null,
            "max_width": null,
            "min_height": null,
            "min_width": null,
            "object_fit": null,
            "object_position": null,
            "order": null,
            "overflow": null,
            "overflow_x": null,
            "overflow_y": null,
            "padding": null,
            "right": null,
            "top": null,
            "visibility": null,
            "width": null
          }
        },
        "ea5501f7060a4a92bc5c9c9efb43f796": {
          "model_module": "@jupyter-widgets/base",
          "model_name": "LayoutModel",
          "model_module_version": "1.2.0",
          "state": {
            "_model_module": "@jupyter-widgets/base",
            "_model_module_version": "1.2.0",
            "_model_name": "LayoutModel",
            "_view_count": null,
            "_view_module": "@jupyter-widgets/base",
            "_view_module_version": "1.2.0",
            "_view_name": "LayoutView",
            "align_content": null,
            "align_items": null,
            "align_self": null,
            "border": null,
            "bottom": null,
            "display": null,
            "flex": null,
            "flex_flow": null,
            "grid_area": null,
            "grid_auto_columns": null,
            "grid_auto_flow": null,
            "grid_auto_rows": null,
            "grid_column": null,
            "grid_gap": null,
            "grid_row": null,
            "grid_template_areas": null,
            "grid_template_columns": null,
            "grid_template_rows": null,
            "height": null,
            "justify_content": null,
            "justify_items": null,
            "left": null,
            "margin": null,
            "max_height": null,
            "max_width": null,
            "min_height": null,
            "min_width": null,
            "object_fit": null,
            "object_position": null,
            "order": null,
            "overflow": null,
            "overflow_x": null,
            "overflow_y": null,
            "padding": null,
            "right": null,
            "top": null,
            "visibility": null,
            "width": null
          }
        },
        "85879800466e4f8fb22fe74e54bb3c53": {
          "model_module": "@jupyter-widgets/controls",
          "model_name": "DescriptionStyleModel",
          "model_module_version": "1.5.0",
          "state": {
            "_model_module": "@jupyter-widgets/controls",
            "_model_module_version": "1.5.0",
            "_model_name": "DescriptionStyleModel",
            "_view_count": null,
            "_view_module": "@jupyter-widgets/base",
            "_view_module_version": "1.2.0",
            "_view_name": "StyleView",
            "description_width": ""
          }
        },
        "6260488cec794bef9cd4f5108122b598": {
          "model_module": "@jupyter-widgets/base",
          "model_name": "LayoutModel",
          "model_module_version": "1.2.0",
          "state": {
            "_model_module": "@jupyter-widgets/base",
            "_model_module_version": "1.2.0",
            "_model_name": "LayoutModel",
            "_view_count": null,
            "_view_module": "@jupyter-widgets/base",
            "_view_module_version": "1.2.0",
            "_view_name": "LayoutView",
            "align_content": null,
            "align_items": null,
            "align_self": null,
            "border": null,
            "bottom": null,
            "display": null,
            "flex": null,
            "flex_flow": null,
            "grid_area": null,
            "grid_auto_columns": null,
            "grid_auto_flow": null,
            "grid_auto_rows": null,
            "grid_column": null,
            "grid_gap": null,
            "grid_row": null,
            "grid_template_areas": null,
            "grid_template_columns": null,
            "grid_template_rows": null,
            "height": null,
            "justify_content": null,
            "justify_items": null,
            "left": null,
            "margin": null,
            "max_height": null,
            "max_width": null,
            "min_height": null,
            "min_width": null,
            "object_fit": null,
            "object_position": null,
            "order": null,
            "overflow": null,
            "overflow_x": null,
            "overflow_y": null,
            "padding": null,
            "right": null,
            "top": null,
            "visibility": null,
            "width": "20px"
          }
        },
        "7d4e83950d774449b372f608cbc2be4d": {
          "model_module": "@jupyter-widgets/controls",
          "model_name": "ProgressStyleModel",
          "model_module_version": "1.5.0",
          "state": {
            "_model_module": "@jupyter-widgets/controls",
            "_model_module_version": "1.5.0",
            "_model_name": "ProgressStyleModel",
            "_view_count": null,
            "_view_module": "@jupyter-widgets/base",
            "_view_module_version": "1.2.0",
            "_view_name": "StyleView",
            "bar_color": null,
            "description_width": ""
          }
        },
        "38d886b4cf49403ca282d39dc9549705": {
          "model_module": "@jupyter-widgets/base",
          "model_name": "LayoutModel",
          "model_module_version": "1.2.0",
          "state": {
            "_model_module": "@jupyter-widgets/base",
            "_model_module_version": "1.2.0",
            "_model_name": "LayoutModel",
            "_view_count": null,
            "_view_module": "@jupyter-widgets/base",
            "_view_module_version": "1.2.0",
            "_view_name": "LayoutView",
            "align_content": null,
            "align_items": null,
            "align_self": null,
            "border": null,
            "bottom": null,
            "display": null,
            "flex": null,
            "flex_flow": null,
            "grid_area": null,
            "grid_auto_columns": null,
            "grid_auto_flow": null,
            "grid_auto_rows": null,
            "grid_column": null,
            "grid_gap": null,
            "grid_row": null,
            "grid_template_areas": null,
            "grid_template_columns": null,
            "grid_template_rows": null,
            "height": null,
            "justify_content": null,
            "justify_items": null,
            "left": null,
            "margin": null,
            "max_height": null,
            "max_width": null,
            "min_height": null,
            "min_width": null,
            "object_fit": null,
            "object_position": null,
            "order": null,
            "overflow": null,
            "overflow_x": null,
            "overflow_y": null,
            "padding": null,
            "right": null,
            "top": null,
            "visibility": null,
            "width": null
          }
        },
        "2b86e8a4c8ea4e159fc3b5f65f8ebb6e": {
          "model_module": "@jupyter-widgets/controls",
          "model_name": "DescriptionStyleModel",
          "model_module_version": "1.5.0",
          "state": {
            "_model_module": "@jupyter-widgets/controls",
            "_model_module_version": "1.5.0",
            "_model_name": "DescriptionStyleModel",
            "_view_count": null,
            "_view_module": "@jupyter-widgets/base",
            "_view_module_version": "1.2.0",
            "_view_name": "StyleView",
            "description_width": ""
          }
        }
      }
    }
  },
  "cells": [
    {
      "cell_type": "markdown",
      "metadata": {
        "id": "view-in-github",
        "colab_type": "text"
      },
      "source": [
        "<a href=\"https://colab.research.google.com/github/RehamJamal13/model/blob/main/CoAuthorWithWeights.ipynb\" target=\"_parent\"><img src=\"https://colab.research.google.com/assets/colab-badge.svg\" alt=\"Open In Colab\"/></a>"
      ]
    },
    {
      "cell_type": "code",
      "execution_count": null,
      "metadata": {
        "colab": {
          "base_uri": "https://localhost:8080/"
        },
        "id": "xdB7CGGwBs3S",
        "outputId": "695cdabf-d728-4e34-f179-9d0eb7c0df45"
      },
      "outputs": [
        {
          "output_type": "stream",
          "name": "stdout",
          "text": [
            "Mounted at /content/drive\n"
          ]
        }
      ],
      "source": [
        "from google.colab import drive\n",
        "drive.mount('/content/drive')"
      ]
    },
    {
      "cell_type": "code",
      "execution_count": null,
      "metadata": {
        "id": "gMpGYFGPIOSG",
        "cellView": "form"
      },
      "outputs": [],
      "source": [
        "#@title Download pakages\n",
        "#NATURAL LANGUAGE PROCESSING\n",
        "!pip install pandas\n",
        "!pip install networkx\n",
        "!pip install matplotlib\n",
        "! pip install pyvis\n",
        "!pip install nameparser"
      ]
    },
    {
      "cell_type": "code",
      "execution_count": null,
      "metadata": {
        "id": "pjVBC7qzPV5G",
        "cellView": "form"
      },
      "outputs": [],
      "source": [
        "#@title Load Packages\n",
        "#!pip install nameparser\n",
        "import numpy as np\n",
        "import pandas as pd\n",
        "import matplotlib.pyplot as plt\n",
        "from sklearn.feature_extraction import text\n",
        "from sklearn.feature_extraction.text import CountVectorizer, TfidfVectorizer\n",
        "from sklearn.decomposition import LatentDirichletAllocation\n",
        "#from Topic_Modeling import *\n",
        "#import scispacy\n",
        "#import spacy\n",
        "#import en_core_sci_lg\n",
        "import networkx as nx\n",
        "from pathlib import Path\n",
        "from itertools import combinations\n",
        "from collections import Counter\n",
        "from itertools import chain\n",
        "import random\n",
        "from pyvis.network import Network\n",
        "from tqdm.notebook import tqdm, trange\n",
        "import time    # to be used in loop iterations\n",
        "from gensim.models.word2vec import Word2Vec\n",
        "from sklearn.metrics import pairwise_distances\n",
        "from sklearn.metrics.pairwise import cosine_similarity,cosine_distances\n",
        "from sklearn.cluster import KMeans"
      ]
    },
    {
      "cell_type": "code",
      "execution_count": null,
      "metadata": {
        "id": "142_cGxoPE_G"
      },
      "outputs": [],
      "source": [
        "#@title Load Data\n",
        "data= pd.read_csv('/content/drive/MyDrive/Colab_Notebooks/Copy_of_Author_paper.csv')"
      ]
    },
    {
      "cell_type": "markdown",
      "source": [
        "##CoAuthor Network"
      ],
      "metadata": {
        "id": "_fn78BVHEFno"
      }
    },
    {
      "cell_type": "code",
      "source": [
        "#data = data.drop(columns=['Author_split'])\n",
        "data['Author_split']=data['Author'].apply(lambda x: x.replace(\"'\", \"\").strip('][').split(', '))\n",
        "\n"
      ],
      "metadata": {
        "id": "MdYLQCJMO-zi"
      },
      "execution_count": null,
      "outputs": []
    },
    {
      "cell_type": "code",
      "source": [
        "data['Author_pairs']=data['Author_split'].apply(lambda x:list(combinations(x, 2)))\n",
        "data.head()"
      ],
      "metadata": {
        "id": "Ls0rO56pD-5E",
        "colab": {
          "base_uri": "https://localhost:8080/",
          "height": 246
        },
        "outputId": "53e55017-cd5a-478e-9e34-427eb640fb56"
      },
      "execution_count": null,
      "outputs": [
        {
          "output_type": "execute_result",
          "data": {
            "text/plain": [
              "   DOC_ID              Author      Author_split Author_pairs\n",
              "0       0  ['Unknown author']  [Unknown author]           []\n",
              "1       2  ['Unknown author']  [Unknown author]           []\n",
              "2       3  ['Unknown author']  [Unknown author]           []\n",
              "3       4  ['Unknown author']  [Unknown author]           []\n",
              "4       5  ['Unknown author']  [Unknown author]           []"
            ],
            "text/html": [
              "\n",
              "  <div id=\"df-181fc06a-9351-46e2-84ed-1616f2f62da4\" class=\"colab-df-container\">\n",
              "    <div>\n",
              "<style scoped>\n",
              "    .dataframe tbody tr th:only-of-type {\n",
              "        vertical-align: middle;\n",
              "    }\n",
              "\n",
              "    .dataframe tbody tr th {\n",
              "        vertical-align: top;\n",
              "    }\n",
              "\n",
              "    .dataframe thead th {\n",
              "        text-align: right;\n",
              "    }\n",
              "</style>\n",
              "<table border=\"1\" class=\"dataframe\">\n",
              "  <thead>\n",
              "    <tr style=\"text-align: right;\">\n",
              "      <th></th>\n",
              "      <th>DOC_ID</th>\n",
              "      <th>Author</th>\n",
              "      <th>Author_split</th>\n",
              "      <th>Author_pairs</th>\n",
              "    </tr>\n",
              "  </thead>\n",
              "  <tbody>\n",
              "    <tr>\n",
              "      <th>0</th>\n",
              "      <td>0</td>\n",
              "      <td>['Unknown author']</td>\n",
              "      <td>[Unknown author]</td>\n",
              "      <td>[]</td>\n",
              "    </tr>\n",
              "    <tr>\n",
              "      <th>1</th>\n",
              "      <td>2</td>\n",
              "      <td>['Unknown author']</td>\n",
              "      <td>[Unknown author]</td>\n",
              "      <td>[]</td>\n",
              "    </tr>\n",
              "    <tr>\n",
              "      <th>2</th>\n",
              "      <td>3</td>\n",
              "      <td>['Unknown author']</td>\n",
              "      <td>[Unknown author]</td>\n",
              "      <td>[]</td>\n",
              "    </tr>\n",
              "    <tr>\n",
              "      <th>3</th>\n",
              "      <td>4</td>\n",
              "      <td>['Unknown author']</td>\n",
              "      <td>[Unknown author]</td>\n",
              "      <td>[]</td>\n",
              "    </tr>\n",
              "    <tr>\n",
              "      <th>4</th>\n",
              "      <td>5</td>\n",
              "      <td>['Unknown author']</td>\n",
              "      <td>[Unknown author]</td>\n",
              "      <td>[]</td>\n",
              "    </tr>\n",
              "  </tbody>\n",
              "</table>\n",
              "</div>\n",
              "    <div class=\"colab-df-buttons\">\n",
              "\n",
              "  <div class=\"colab-df-container\">\n",
              "    <button class=\"colab-df-convert\" onclick=\"convertToInteractive('df-181fc06a-9351-46e2-84ed-1616f2f62da4')\"\n",
              "            title=\"Convert this dataframe to an interactive table.\"\n",
              "            style=\"display:none;\">\n",
              "\n",
              "  <svg xmlns=\"http://www.w3.org/2000/svg\" height=\"24px\" viewBox=\"0 -960 960 960\">\n",
              "    <path d=\"M120-120v-720h720v720H120Zm60-500h600v-160H180v160Zm220 220h160v-160H400v160Zm0 220h160v-160H400v160ZM180-400h160v-160H180v160Zm440 0h160v-160H620v160ZM180-180h160v-160H180v160Zm440 0h160v-160H620v160Z\"/>\n",
              "  </svg>\n",
              "    </button>\n",
              "\n",
              "  <style>\n",
              "    .colab-df-container {\n",
              "      display:flex;\n",
              "      gap: 12px;\n",
              "    }\n",
              "\n",
              "    .colab-df-convert {\n",
              "      background-color: #E8F0FE;\n",
              "      border: none;\n",
              "      border-radius: 50%;\n",
              "      cursor: pointer;\n",
              "      display: none;\n",
              "      fill: #1967D2;\n",
              "      height: 32px;\n",
              "      padding: 0 0 0 0;\n",
              "      width: 32px;\n",
              "    }\n",
              "\n",
              "    .colab-df-convert:hover {\n",
              "      background-color: #E2EBFA;\n",
              "      box-shadow: 0px 1px 2px rgba(60, 64, 67, 0.3), 0px 1px 3px 1px rgba(60, 64, 67, 0.15);\n",
              "      fill: #174EA6;\n",
              "    }\n",
              "\n",
              "    .colab-df-buttons div {\n",
              "      margin-bottom: 4px;\n",
              "    }\n",
              "\n",
              "    [theme=dark] .colab-df-convert {\n",
              "      background-color: #3B4455;\n",
              "      fill: #D2E3FC;\n",
              "    }\n",
              "\n",
              "    [theme=dark] .colab-df-convert:hover {\n",
              "      background-color: #434B5C;\n",
              "      box-shadow: 0px 1px 3px 1px rgba(0, 0, 0, 0.15);\n",
              "      filter: drop-shadow(0px 1px 2px rgba(0, 0, 0, 0.3));\n",
              "      fill: #FFFFFF;\n",
              "    }\n",
              "  </style>\n",
              "\n",
              "    <script>\n",
              "      const buttonEl =\n",
              "        document.querySelector('#df-181fc06a-9351-46e2-84ed-1616f2f62da4 button.colab-df-convert');\n",
              "      buttonEl.style.display =\n",
              "        google.colab.kernel.accessAllowed ? 'block' : 'none';\n",
              "\n",
              "      async function convertToInteractive(key) {\n",
              "        const element = document.querySelector('#df-181fc06a-9351-46e2-84ed-1616f2f62da4');\n",
              "        const dataTable =\n",
              "          await google.colab.kernel.invokeFunction('convertToInteractive',\n",
              "                                                    [key], {});\n",
              "        if (!dataTable) return;\n",
              "\n",
              "        const docLinkHtml = 'Like what you see? Visit the ' +\n",
              "          '<a target=\"_blank\" href=https://colab.research.google.com/notebooks/data_table.ipynb>data table notebook</a>'\n",
              "          + ' to learn more about interactive tables.';\n",
              "        element.innerHTML = '';\n",
              "        dataTable['output_type'] = 'display_data';\n",
              "        await google.colab.output.renderOutput(dataTable, element);\n",
              "        const docLink = document.createElement('div');\n",
              "        docLink.innerHTML = docLinkHtml;\n",
              "        element.appendChild(docLink);\n",
              "      }\n",
              "    </script>\n",
              "  </div>\n",
              "\n",
              "\n",
              "<div id=\"df-a7a014b6-1974-4e6c-bb4b-83563246c68a\">\n",
              "  <button class=\"colab-df-quickchart\" onclick=\"quickchart('df-a7a014b6-1974-4e6c-bb4b-83563246c68a')\"\n",
              "            title=\"Suggest charts.\"\n",
              "            style=\"display:none;\">\n",
              "\n",
              "<svg xmlns=\"http://www.w3.org/2000/svg\" height=\"24px\"viewBox=\"0 0 24 24\"\n",
              "     width=\"24px\">\n",
              "    <g>\n",
              "        <path d=\"M19 3H5c-1.1 0-2 .9-2 2v14c0 1.1.9 2 2 2h14c1.1 0 2-.9 2-2V5c0-1.1-.9-2-2-2zM9 17H7v-7h2v7zm4 0h-2V7h2v10zm4 0h-2v-4h2v4z\"/>\n",
              "    </g>\n",
              "</svg>\n",
              "  </button>\n",
              "\n",
              "<style>\n",
              "  .colab-df-quickchart {\n",
              "      --bg-color: #E8F0FE;\n",
              "      --fill-color: #1967D2;\n",
              "      --hover-bg-color: #E2EBFA;\n",
              "      --hover-fill-color: #174EA6;\n",
              "      --disabled-fill-color: #AAA;\n",
              "      --disabled-bg-color: #DDD;\n",
              "  }\n",
              "\n",
              "  [theme=dark] .colab-df-quickchart {\n",
              "      --bg-color: #3B4455;\n",
              "      --fill-color: #D2E3FC;\n",
              "      --hover-bg-color: #434B5C;\n",
              "      --hover-fill-color: #FFFFFF;\n",
              "      --disabled-bg-color: #3B4455;\n",
              "      --disabled-fill-color: #666;\n",
              "  }\n",
              "\n",
              "  .colab-df-quickchart {\n",
              "    background-color: var(--bg-color);\n",
              "    border: none;\n",
              "    border-radius: 50%;\n",
              "    cursor: pointer;\n",
              "    display: none;\n",
              "    fill: var(--fill-color);\n",
              "    height: 32px;\n",
              "    padding: 0;\n",
              "    width: 32px;\n",
              "  }\n",
              "\n",
              "  .colab-df-quickchart:hover {\n",
              "    background-color: var(--hover-bg-color);\n",
              "    box-shadow: 0 1px 2px rgba(60, 64, 67, 0.3), 0 1px 3px 1px rgba(60, 64, 67, 0.15);\n",
              "    fill: var(--button-hover-fill-color);\n",
              "  }\n",
              "\n",
              "  .colab-df-quickchart-complete:disabled,\n",
              "  .colab-df-quickchart-complete:disabled:hover {\n",
              "    background-color: var(--disabled-bg-color);\n",
              "    fill: var(--disabled-fill-color);\n",
              "    box-shadow: none;\n",
              "  }\n",
              "\n",
              "  .colab-df-spinner {\n",
              "    border: 2px solid var(--fill-color);\n",
              "    border-color: transparent;\n",
              "    border-bottom-color: var(--fill-color);\n",
              "    animation:\n",
              "      spin 1s steps(1) infinite;\n",
              "  }\n",
              "\n",
              "  @keyframes spin {\n",
              "    0% {\n",
              "      border-color: transparent;\n",
              "      border-bottom-color: var(--fill-color);\n",
              "      border-left-color: var(--fill-color);\n",
              "    }\n",
              "    20% {\n",
              "      border-color: transparent;\n",
              "      border-left-color: var(--fill-color);\n",
              "      border-top-color: var(--fill-color);\n",
              "    }\n",
              "    30% {\n",
              "      border-color: transparent;\n",
              "      border-left-color: var(--fill-color);\n",
              "      border-top-color: var(--fill-color);\n",
              "      border-right-color: var(--fill-color);\n",
              "    }\n",
              "    40% {\n",
              "      border-color: transparent;\n",
              "      border-right-color: var(--fill-color);\n",
              "      border-top-color: var(--fill-color);\n",
              "    }\n",
              "    60% {\n",
              "      border-color: transparent;\n",
              "      border-right-color: var(--fill-color);\n",
              "    }\n",
              "    80% {\n",
              "      border-color: transparent;\n",
              "      border-right-color: var(--fill-color);\n",
              "      border-bottom-color: var(--fill-color);\n",
              "    }\n",
              "    90% {\n",
              "      border-color: transparent;\n",
              "      border-bottom-color: var(--fill-color);\n",
              "    }\n",
              "  }\n",
              "</style>\n",
              "\n",
              "  <script>\n",
              "    async function quickchart(key) {\n",
              "      const quickchartButtonEl =\n",
              "        document.querySelector('#' + key + ' button');\n",
              "      quickchartButtonEl.disabled = true;  // To prevent multiple clicks.\n",
              "      quickchartButtonEl.classList.add('colab-df-spinner');\n",
              "      try {\n",
              "        const charts = await google.colab.kernel.invokeFunction(\n",
              "            'suggestCharts', [key], {});\n",
              "      } catch (error) {\n",
              "        console.error('Error during call to suggestCharts:', error);\n",
              "      }\n",
              "      quickchartButtonEl.classList.remove('colab-df-spinner');\n",
              "      quickchartButtonEl.classList.add('colab-df-quickchart-complete');\n",
              "    }\n",
              "    (() => {\n",
              "      let quickchartButtonEl =\n",
              "        document.querySelector('#df-a7a014b6-1974-4e6c-bb4b-83563246c68a button');\n",
              "      quickchartButtonEl.style.display =\n",
              "        google.colab.kernel.accessAllowed ? 'block' : 'none';\n",
              "    })();\n",
              "  </script>\n",
              "</div>\n",
              "    </div>\n",
              "  </div>\n"
            ]
          },
          "metadata": {},
          "execution_count": 21
        }
      ]
    },
    {
      "cell_type": "code",
      "source": [
        "data[200:210]"
      ],
      "metadata": {
        "id": "C6SCPfLHb3XA",
        "colab": {
          "base_uri": "https://localhost:8080/",
          "height": 363
        },
        "outputId": "f4882b8b-93bd-416a-b530-f1f08484ea47"
      },
      "execution_count": null,
      "outputs": [
        {
          "output_type": "execute_result",
          "data": {
            "text/plain": [
              "     DOC_ID                                             Author  \\\n",
              "200     390  ['a. elbasit ie khalil', ' i. f. elbashir', ' ...   \n",
              "201     391  ['a. elgadir t. m. elbashir', ' m. i. berzins'...   \n",
              "202     392  ['a. elgadir t. m. theander', ' t. g. elghazal...   \n",
              "203     394  ['a. elgayoum s. m. el-rayah', ' e. a. giha', ...   \n",
              "204     395  ['a. elgayoum s. m. el-rayah el', ' a. giha', ...   \n",
              "205     396  ['a. elgayoum s. m. el-rayah el', ' a. giha', ...   \n",
              "206     397  ['a. magid y. m. elussein', ' e. a. omer', ' m...   \n",
              "207     398  ['a. rahman s. h. mohamedani', ' a. a. mirgani...   \n",
              "208     399                           ['a. s. safi', ' ahmed']   \n",
              "209     400  ['a. wahab m. m. ismail', ' a. m. rais', ' m. ...   \n",
              "\n",
              "                                          Author_split  \\\n",
              "200  [a. elbasit ie khalil,  i. f. elbashir,  m. i....   \n",
              "201  [a. elgadir t. m. elbashir,  m. i. berzins,  k...   \n",
              "202  [a. elgadir t. m. theander,  t. g. elghazali, ...   \n",
              "203  [a. elgayoum s. m. el-rayah,  e. a. giha,  h. a.]   \n",
              "204  [a. elgayoum s. m. el-rayah el,  a. giha,  h. a.]   \n",
              "205  [a. elgayoum s. m. el-rayah el,  a. giha,  h. a.]   \n",
              "206  [a. magid y. m. elussein,  e. a. omer,  m. m. ...   \n",
              "207  [a. rahman s. h. mohamedani,  a. a. mirgani,  ...   \n",
              "208                               [a. s. safi,  ahmed]   \n",
              "209  [a. wahab m. m. ismail,  a. m. rais,  m. a. is...   \n",
              "\n",
              "                                          Author_pairs  \n",
              "200  [(a. elbasit ie khalil,  i. f. elbashir), (a. ...  \n",
              "201  [(a. elgadir t. m. elbashir,  m. i. berzins), ...  \n",
              "202  [(a. elgadir t. m. theander,  t. g. elghazali)...  \n",
              "203  [(a. elgayoum s. m. el-rayah,  e. a. giha), (a...  \n",
              "204  [(a. elgayoum s. m. el-rayah el,  a. giha), (a...  \n",
              "205  [(a. elgayoum s. m. el-rayah el,  a. giha), (a...  \n",
              "206  [(a. magid y. m. elussein,  e. a. omer), (a. m...  \n",
              "207  [(a. rahman s. h. mohamedani,  a. a. mirgani),...  \n",
              "208                             [(a. s. safi,  ahmed)]  \n",
              "209  [(a. wahab m. m. ismail,  a. m. rais), (a. wah...  "
            ],
            "text/html": [
              "\n",
              "  <div id=\"df-c10877d0-b82b-4eea-a4e4-16d3e12380db\" class=\"colab-df-container\">\n",
              "    <div>\n",
              "<style scoped>\n",
              "    .dataframe tbody tr th:only-of-type {\n",
              "        vertical-align: middle;\n",
              "    }\n",
              "\n",
              "    .dataframe tbody tr th {\n",
              "        vertical-align: top;\n",
              "    }\n",
              "\n",
              "    .dataframe thead th {\n",
              "        text-align: right;\n",
              "    }\n",
              "</style>\n",
              "<table border=\"1\" class=\"dataframe\">\n",
              "  <thead>\n",
              "    <tr style=\"text-align: right;\">\n",
              "      <th></th>\n",
              "      <th>DOC_ID</th>\n",
              "      <th>Author</th>\n",
              "      <th>Author_split</th>\n",
              "      <th>Author_pairs</th>\n",
              "    </tr>\n",
              "  </thead>\n",
              "  <tbody>\n",
              "    <tr>\n",
              "      <th>200</th>\n",
              "      <td>390</td>\n",
              "      <td>['a. elbasit ie khalil', ' i. f. elbashir', ' ...</td>\n",
              "      <td>[a. elbasit ie khalil,  i. f. elbashir,  m. i....</td>\n",
              "      <td>[(a. elbasit ie khalil,  i. f. elbashir), (a. ...</td>\n",
              "    </tr>\n",
              "    <tr>\n",
              "      <th>201</th>\n",
              "      <td>391</td>\n",
              "      <td>['a. elgadir t. m. elbashir', ' m. i. berzins'...</td>\n",
              "      <td>[a. elgadir t. m. elbashir,  m. i. berzins,  k...</td>\n",
              "      <td>[(a. elgadir t. m. elbashir,  m. i. berzins), ...</td>\n",
              "    </tr>\n",
              "    <tr>\n",
              "      <th>202</th>\n",
              "      <td>392</td>\n",
              "      <td>['a. elgadir t. m. theander', ' t. g. elghazal...</td>\n",
              "      <td>[a. elgadir t. m. theander,  t. g. elghazali, ...</td>\n",
              "      <td>[(a. elgadir t. m. theander,  t. g. elghazali)...</td>\n",
              "    </tr>\n",
              "    <tr>\n",
              "      <th>203</th>\n",
              "      <td>394</td>\n",
              "      <td>['a. elgayoum s. m. el-rayah', ' e. a. giha', ...</td>\n",
              "      <td>[a. elgayoum s. m. el-rayah,  e. a. giha,  h. a.]</td>\n",
              "      <td>[(a. elgayoum s. m. el-rayah,  e. a. giha), (a...</td>\n",
              "    </tr>\n",
              "    <tr>\n",
              "      <th>204</th>\n",
              "      <td>395</td>\n",
              "      <td>['a. elgayoum s. m. el-rayah el', ' a. giha', ...</td>\n",
              "      <td>[a. elgayoum s. m. el-rayah el,  a. giha,  h. a.]</td>\n",
              "      <td>[(a. elgayoum s. m. el-rayah el,  a. giha), (a...</td>\n",
              "    </tr>\n",
              "    <tr>\n",
              "      <th>205</th>\n",
              "      <td>396</td>\n",
              "      <td>['a. elgayoum s. m. el-rayah el', ' a. giha', ...</td>\n",
              "      <td>[a. elgayoum s. m. el-rayah el,  a. giha,  h. a.]</td>\n",
              "      <td>[(a. elgayoum s. m. el-rayah el,  a. giha), (a...</td>\n",
              "    </tr>\n",
              "    <tr>\n",
              "      <th>206</th>\n",
              "      <td>397</td>\n",
              "      <td>['a. magid y. m. elussein', ' e. a. omer', ' m...</td>\n",
              "      <td>[a. magid y. m. elussein,  e. a. omer,  m. m. ...</td>\n",
              "      <td>[(a. magid y. m. elussein,  e. a. omer), (a. m...</td>\n",
              "    </tr>\n",
              "    <tr>\n",
              "      <th>207</th>\n",
              "      <td>398</td>\n",
              "      <td>['a. rahman s. h. mohamedani', ' a. a. mirgani...</td>\n",
              "      <td>[a. rahman s. h. mohamedani,  a. a. mirgani,  ...</td>\n",
              "      <td>[(a. rahman s. h. mohamedani,  a. a. mirgani),...</td>\n",
              "    </tr>\n",
              "    <tr>\n",
              "      <th>208</th>\n",
              "      <td>399</td>\n",
              "      <td>['a. s. safi', ' ahmed']</td>\n",
              "      <td>[a. s. safi,  ahmed]</td>\n",
              "      <td>[(a. s. safi,  ahmed)]</td>\n",
              "    </tr>\n",
              "    <tr>\n",
              "      <th>209</th>\n",
              "      <td>400</td>\n",
              "      <td>['a. wahab m. m. ismail', ' a. m. rais', ' m. ...</td>\n",
              "      <td>[a. wahab m. m. ismail,  a. m. rais,  m. a. is...</td>\n",
              "      <td>[(a. wahab m. m. ismail,  a. m. rais), (a. wah...</td>\n",
              "    </tr>\n",
              "  </tbody>\n",
              "</table>\n",
              "</div>\n",
              "    <div class=\"colab-df-buttons\">\n",
              "\n",
              "  <div class=\"colab-df-container\">\n",
              "    <button class=\"colab-df-convert\" onclick=\"convertToInteractive('df-c10877d0-b82b-4eea-a4e4-16d3e12380db')\"\n",
              "            title=\"Convert this dataframe to an interactive table.\"\n",
              "            style=\"display:none;\">\n",
              "\n",
              "  <svg xmlns=\"http://www.w3.org/2000/svg\" height=\"24px\" viewBox=\"0 -960 960 960\">\n",
              "    <path d=\"M120-120v-720h720v720H120Zm60-500h600v-160H180v160Zm220 220h160v-160H400v160Zm0 220h160v-160H400v160ZM180-400h160v-160H180v160Zm440 0h160v-160H620v160ZM180-180h160v-160H180v160Zm440 0h160v-160H620v160Z\"/>\n",
              "  </svg>\n",
              "    </button>\n",
              "\n",
              "  <style>\n",
              "    .colab-df-container {\n",
              "      display:flex;\n",
              "      gap: 12px;\n",
              "    }\n",
              "\n",
              "    .colab-df-convert {\n",
              "      background-color: #E8F0FE;\n",
              "      border: none;\n",
              "      border-radius: 50%;\n",
              "      cursor: pointer;\n",
              "      display: none;\n",
              "      fill: #1967D2;\n",
              "      height: 32px;\n",
              "      padding: 0 0 0 0;\n",
              "      width: 32px;\n",
              "    }\n",
              "\n",
              "    .colab-df-convert:hover {\n",
              "      background-color: #E2EBFA;\n",
              "      box-shadow: 0px 1px 2px rgba(60, 64, 67, 0.3), 0px 1px 3px 1px rgba(60, 64, 67, 0.15);\n",
              "      fill: #174EA6;\n",
              "    }\n",
              "\n",
              "    .colab-df-buttons div {\n",
              "      margin-bottom: 4px;\n",
              "    }\n",
              "\n",
              "    [theme=dark] .colab-df-convert {\n",
              "      background-color: #3B4455;\n",
              "      fill: #D2E3FC;\n",
              "    }\n",
              "\n",
              "    [theme=dark] .colab-df-convert:hover {\n",
              "      background-color: #434B5C;\n",
              "      box-shadow: 0px 1px 3px 1px rgba(0, 0, 0, 0.15);\n",
              "      filter: drop-shadow(0px 1px 2px rgba(0, 0, 0, 0.3));\n",
              "      fill: #FFFFFF;\n",
              "    }\n",
              "  </style>\n",
              "\n",
              "    <script>\n",
              "      const buttonEl =\n",
              "        document.querySelector('#df-c10877d0-b82b-4eea-a4e4-16d3e12380db button.colab-df-convert');\n",
              "      buttonEl.style.display =\n",
              "        google.colab.kernel.accessAllowed ? 'block' : 'none';\n",
              "\n",
              "      async function convertToInteractive(key) {\n",
              "        const element = document.querySelector('#df-c10877d0-b82b-4eea-a4e4-16d3e12380db');\n",
              "        const dataTable =\n",
              "          await google.colab.kernel.invokeFunction('convertToInteractive',\n",
              "                                                    [key], {});\n",
              "        if (!dataTable) return;\n",
              "\n",
              "        const docLinkHtml = 'Like what you see? Visit the ' +\n",
              "          '<a target=\"_blank\" href=https://colab.research.google.com/notebooks/data_table.ipynb>data table notebook</a>'\n",
              "          + ' to learn more about interactive tables.';\n",
              "        element.innerHTML = '';\n",
              "        dataTable['output_type'] = 'display_data';\n",
              "        await google.colab.output.renderOutput(dataTable, element);\n",
              "        const docLink = document.createElement('div');\n",
              "        docLink.innerHTML = docLinkHtml;\n",
              "        element.appendChild(docLink);\n",
              "      }\n",
              "    </script>\n",
              "  </div>\n",
              "\n",
              "\n",
              "<div id=\"df-3a2fe2ba-dd61-4307-b712-068193ce2f3c\">\n",
              "  <button class=\"colab-df-quickchart\" onclick=\"quickchart('df-3a2fe2ba-dd61-4307-b712-068193ce2f3c')\"\n",
              "            title=\"Suggest charts.\"\n",
              "            style=\"display:none;\">\n",
              "\n",
              "<svg xmlns=\"http://www.w3.org/2000/svg\" height=\"24px\"viewBox=\"0 0 24 24\"\n",
              "     width=\"24px\">\n",
              "    <g>\n",
              "        <path d=\"M19 3H5c-1.1 0-2 .9-2 2v14c0 1.1.9 2 2 2h14c1.1 0 2-.9 2-2V5c0-1.1-.9-2-2-2zM9 17H7v-7h2v7zm4 0h-2V7h2v10zm4 0h-2v-4h2v4z\"/>\n",
              "    </g>\n",
              "</svg>\n",
              "  </button>\n",
              "\n",
              "<style>\n",
              "  .colab-df-quickchart {\n",
              "      --bg-color: #E8F0FE;\n",
              "      --fill-color: #1967D2;\n",
              "      --hover-bg-color: #E2EBFA;\n",
              "      --hover-fill-color: #174EA6;\n",
              "      --disabled-fill-color: #AAA;\n",
              "      --disabled-bg-color: #DDD;\n",
              "  }\n",
              "\n",
              "  [theme=dark] .colab-df-quickchart {\n",
              "      --bg-color: #3B4455;\n",
              "      --fill-color: #D2E3FC;\n",
              "      --hover-bg-color: #434B5C;\n",
              "      --hover-fill-color: #FFFFFF;\n",
              "      --disabled-bg-color: #3B4455;\n",
              "      --disabled-fill-color: #666;\n",
              "  }\n",
              "\n",
              "  .colab-df-quickchart {\n",
              "    background-color: var(--bg-color);\n",
              "    border: none;\n",
              "    border-radius: 50%;\n",
              "    cursor: pointer;\n",
              "    display: none;\n",
              "    fill: var(--fill-color);\n",
              "    height: 32px;\n",
              "    padding: 0;\n",
              "    width: 32px;\n",
              "  }\n",
              "\n",
              "  .colab-df-quickchart:hover {\n",
              "    background-color: var(--hover-bg-color);\n",
              "    box-shadow: 0 1px 2px rgba(60, 64, 67, 0.3), 0 1px 3px 1px rgba(60, 64, 67, 0.15);\n",
              "    fill: var(--button-hover-fill-color);\n",
              "  }\n",
              "\n",
              "  .colab-df-quickchart-complete:disabled,\n",
              "  .colab-df-quickchart-complete:disabled:hover {\n",
              "    background-color: var(--disabled-bg-color);\n",
              "    fill: var(--disabled-fill-color);\n",
              "    box-shadow: none;\n",
              "  }\n",
              "\n",
              "  .colab-df-spinner {\n",
              "    border: 2px solid var(--fill-color);\n",
              "    border-color: transparent;\n",
              "    border-bottom-color: var(--fill-color);\n",
              "    animation:\n",
              "      spin 1s steps(1) infinite;\n",
              "  }\n",
              "\n",
              "  @keyframes spin {\n",
              "    0% {\n",
              "      border-color: transparent;\n",
              "      border-bottom-color: var(--fill-color);\n",
              "      border-left-color: var(--fill-color);\n",
              "    }\n",
              "    20% {\n",
              "      border-color: transparent;\n",
              "      border-left-color: var(--fill-color);\n",
              "      border-top-color: var(--fill-color);\n",
              "    }\n",
              "    30% {\n",
              "      border-color: transparent;\n",
              "      border-left-color: var(--fill-color);\n",
              "      border-top-color: var(--fill-color);\n",
              "      border-right-color: var(--fill-color);\n",
              "    }\n",
              "    40% {\n",
              "      border-color: transparent;\n",
              "      border-right-color: var(--fill-color);\n",
              "      border-top-color: var(--fill-color);\n",
              "    }\n",
              "    60% {\n",
              "      border-color: transparent;\n",
              "      border-right-color: var(--fill-color);\n",
              "    }\n",
              "    80% {\n",
              "      border-color: transparent;\n",
              "      border-right-color: var(--fill-color);\n",
              "      border-bottom-color: var(--fill-color);\n",
              "    }\n",
              "    90% {\n",
              "      border-color: transparent;\n",
              "      border-bottom-color: var(--fill-color);\n",
              "    }\n",
              "  }\n",
              "</style>\n",
              "\n",
              "  <script>\n",
              "    async function quickchart(key) {\n",
              "      const quickchartButtonEl =\n",
              "        document.querySelector('#' + key + ' button');\n",
              "      quickchartButtonEl.disabled = true;  // To prevent multiple clicks.\n",
              "      quickchartButtonEl.classList.add('colab-df-spinner');\n",
              "      try {\n",
              "        const charts = await google.colab.kernel.invokeFunction(\n",
              "            'suggestCharts', [key], {});\n",
              "      } catch (error) {\n",
              "        console.error('Error during call to suggestCharts:', error);\n",
              "      }\n",
              "      quickchartButtonEl.classList.remove('colab-df-spinner');\n",
              "      quickchartButtonEl.classList.add('colab-df-quickchart-complete');\n",
              "    }\n",
              "    (() => {\n",
              "      let quickchartButtonEl =\n",
              "        document.querySelector('#df-3a2fe2ba-dd61-4307-b712-068193ce2f3c button');\n",
              "      quickchartButtonEl.style.display =\n",
              "        google.colab.kernel.accessAllowed ? 'block' : 'none';\n",
              "    })();\n",
              "  </script>\n",
              "</div>\n",
              "    </div>\n",
              "  </div>\n"
            ]
          },
          "metadata": {},
          "execution_count": 22
        }
      ]
    },
    {
      "cell_type": "code",
      "source": [
        "ai_authors=pd.DataFrame(data['Author_split'].tolist()).rename(columns={0:'Author_split'})\n",
        "papers_by_authors=ai_authors.groupby(['Author_split']).size().reset_index().rename(columns={0:'Number of Papers Published'}).sort_values(\"Number of Papers Published\",ascending=False)\n",
        "papers_by_authors.shape"
      ],
      "metadata": {
        "id": "AguZgPt7no5s",
        "colab": {
          "base_uri": "https://localhost:8080/"
        },
        "outputId": "e4598e06-00e3-4ea0-d9e2-e7d16f1ec49b"
      },
      "execution_count": null,
      "outputs": [
        {
          "output_type": "execute_result",
          "data": {
            "text/plain": [
              "(5127, 2)"
            ]
          },
          "metadata": {},
          "execution_count": 23
        }
      ]
    },
    {
      "cell_type": "code",
      "source": [
        "papers_by_authors['Number of Papers Published'].describe()"
      ],
      "metadata": {
        "id": "Xlp42m6BoKXf",
        "colab": {
          "base_uri": "https://localhost:8080/"
        },
        "outputId": "8d50d5a6-6c0c-44cd-b30a-6c9fd6204435"
      },
      "execution_count": null,
      "outputs": [
        {
          "output_type": "execute_result",
          "data": {
            "text/plain": [
              "count    5127.000000\n",
              "mean        2.580066\n",
              "std         8.605011\n",
              "min         1.000000\n",
              "25%         1.000000\n",
              "50%         1.000000\n",
              "75%         2.000000\n",
              "max       294.000000\n",
              "Name: Number of Papers Published, dtype: float64"
            ]
          },
          "metadata": {},
          "execution_count": 24
        }
      ]
    },
    {
      "cell_type": "code",
      "source": [
        "## Keeping Authors who have published more than 2 Papers\n",
        "nodes_to_keep=papers_by_authors.loc[papers_by_authors['Number of Papers Published']>2,'Author_split'].tolist()\n",
        "len(nodes_to_keep)"
      ],
      "metadata": {
        "id": "CDwnm-eToRk-",
        "colab": {
          "base_uri": "https://localhost:8080/"
        },
        "outputId": "bf17b8c6-fcea-4881-f681-00dccf393b69"
      },
      "execution_count": null,
      "outputs": [
        {
          "output_type": "execute_result",
          "data": {
            "text/plain": [
              "808"
            ]
          },
          "metadata": {},
          "execution_count": 25
        }
      ]
    },
    {
      "cell_type": "markdown",
      "source": [
        "#Generating the Edges of the Co-Author Network"
      ],
      "metadata": {
        "id": "dGe3JKeYolN9"
      }
    },
    {
      "cell_type": "code",
      "source": [
        "authors_pairs=data['Author_pairs'].tolist()\n",
        "authors_edge_list=[item for sublist in authors_pairs for item in sublist]\n",
        "authors_weighted_edge_list=list(Counter(authors_edge_list).items())\n",
        "authors_weighted_edge_list=[(row[0][0],row[0][1],row[1]) for idx,row in enumerate(authors_weighted_edge_list)]\n",
        "authors_weighted_edge_list[0:10]"
      ],
      "metadata": {
        "id": "K1PIccT0ohSN",
        "colab": {
          "base_uri": "https://localhost:8080/"
        },
        "outputId": "fcfa70c3-022a-4d29-ffb8-51095832c700"
      },
      "execution_count": null,
      "outputs": [
        {
          "output_type": "execute_result",
          "data": {
            "text/plain": [
              "[('-elgayoum', ' salwa. m. e. el-feki', 1),\n",
              " ('-elgayoum', ' abd el-karim ahmed. mahgoub', 1),\n",
              " ('-elgayoum', ' babiker ahmed. el-rayah', 1),\n",
              " ('-elgayoum', ' elamin. giha', 1),\n",
              " ('-elgayoum', ' hayder.  a.', 1),\n",
              " (' salwa. m. e. el-feki', ' abd el-karim ahmed. mahgoub', 1),\n",
              " (' salwa. m. e. el-feki', ' babiker ahmed. el-rayah', 1),\n",
              " (' salwa. m. e. el-feki', ' elamin. giha', 1),\n",
              " (' salwa. m. e. el-feki', ' hayder.  a.', 1),\n",
              " (' abd el-karim ahmed. mahgoub', ' babiker ahmed. el-rayah', 1)]"
            ]
          },
          "metadata": {},
          "execution_count": 26
        }
      ]
    },
    {
      "cell_type": "code",
      "source": [
        "G1=nx.Graph()\n",
        "G1.add_weighted_edges_from(authors_weighted_edge_list)\n",
        "print(len(G1.nodes()))"
      ],
      "metadata": {
        "id": "H1dPwDUfo7dd",
        "colab": {
          "base_uri": "https://localhost:8080/"
        },
        "outputId": "5e8dbbd2-958a-4fef-a054-903e3e6a69eb"
      },
      "execution_count": null,
      "outputs": [
        {
          "output_type": "stream",
          "name": "stdout",
          "text": [
            "35439\n"
          ]
        }
      ]
    },
    {
      "cell_type": "code",
      "source": [
        "## From the complete Graph, create a subgraph, with only the nodes to keep\n",
        "#Keeping Authors who have published at least 3 papers\n",
        "sub_g=nx.subgraph(G1,nodes_to_keep)\n",
        "G=nx.Graph(sub_g)\n",
        "print(len(G.nodes()))\n",
        "isolated_node=nx.isolates(G)\n",
        "len(list(isolated_node))"
      ],
      "metadata": {
        "id": "7jTF5giipEvT",
        "colab": {
          "base_uri": "https://localhost:8080/"
        },
        "outputId": "a32fcbbc-bd64-44c9-e4d0-27b54984ba67"
      },
      "execution_count": null,
      "outputs": [
        {
          "output_type": "stream",
          "name": "stdout",
          "text": [
            "806\n"
          ]
        },
        {
          "output_type": "execute_result",
          "data": {
            "text/plain": [
              "806"
            ]
          },
          "metadata": {},
          "execution_count": 28
        }
      ]
    },
    {
      "cell_type": "code",
      "source": [
        "G.remove_nodes_from(list(nx.isolates(G)))\n",
        "len(G.nodes)"
      ],
      "metadata": {
        "id": "APeki-4NpSwo",
        "colab": {
          "base_uri": "https://localhost:8080/"
        },
        "outputId": "1b97fd5d-c627-4763-bdb5-c1bd4f5f851c"
      },
      "execution_count": null,
      "outputs": [
        {
          "output_type": "execute_result",
          "data": {
            "text/plain": [
              "0"
            ]
          },
          "metadata": {},
          "execution_count": 29
        }
      ]
    },
    {
      "cell_type": "code",
      "source": [
        "del G1, sub_g\n",
        "print(\"Number of Nodes in Author Graph \",len(G.nodes()))\n",
        "print(\"Number of Edges in AUthor Graph \",len(G.edges()))"
      ],
      "metadata": {
        "id": "geYIXLLmpXUz",
        "colab": {
          "base_uri": "https://localhost:8080/"
        },
        "outputId": "d39f1a69-c977-4c2e-cef1-6e74f0e2103f"
      },
      "execution_count": null,
      "outputs": [
        {
          "output_type": "stream",
          "name": "stdout",
          "text": [
            "Number of Nodes in Author Graph  0\n",
            "Number of Edges in AUthor Graph  0\n"
          ]
        }
      ]
    },
    {
      "cell_type": "markdown",
      "source": [
        "#Implementing Deep Walk"
      ],
      "metadata": {
        "id": "MzprCbcWpgQ0"
      }
    },
    {
      "cell_type": "code",
      "source": [
        "def getRandomWalk(graph,node,length_of_random_walk):\n",
        "    \"\"\" This function takes NetworkX Graph and a Node and generate random walk for a given length\n",
        "\n",
        "    Returns the random walk (list of nodes traversed)\n",
        "\n",
        "    Note: The same node may occcur more than once in a Random Walk.\n",
        "    \"\"\"\n",
        "    start_node=node\n",
        "    current_node=start_node\n",
        "    random_walk=[node]\n",
        "    for i in range(0,length_of_random_walk):\n",
        "        ## Choose a random neighbour of the current node\n",
        "\n",
        "        current_node_neighbours=list(graph.neighbors(current_node))\n",
        "        chosen_node=random.choice(current_node_neighbours)\n",
        "        current_node=chosen_node\n",
        "        random_walk.append(current_node)\n",
        "    return random_walk"
      ],
      "metadata": {
        "id": "0zKKqIVpvrqQ"
      },
      "execution_count": null,
      "outputs": []
    },
    {
      "cell_type": "code",
      "source": [
        "\n",
        "### For every Node in the Graph, get randomwalks . For eahc node, let us get random walks say around 10 times each of path length 10\n",
        "num_sampling=10\n",
        "random_walks=[]\n",
        "length_of_random_walk=10\n",
        "for node in tqdm(G.nodes(),desc=\"Iterating Nodes\"):\n",
        "\n",
        "    for i in range(0,num_sampling):\n",
        "        random_walks.append(getRandomWalk(G,node,length_of_random_walk))\n"
      ],
      "metadata": {
        "id": "AH1BdQY-v4M-",
        "colab": {
          "base_uri": "https://localhost:8080/",
          "height": 49,
          "referenced_widgets": [
            "288470811cb0407ca0f4b13a67374bc7",
            "69b5c7fce5574776b3c3c49c712c77ae",
            "3e61594e799d4a4bbd1a1a314c0e34c0",
            "38ba47f0e39e4e4eaa15ee121397f3e9",
            "bfbbf256cfc54b3a9584109a71972dbc",
            "ea5501f7060a4a92bc5c9c9efb43f796",
            "85879800466e4f8fb22fe74e54bb3c53",
            "6260488cec794bef9cd4f5108122b598",
            "7d4e83950d774449b372f608cbc2be4d",
            "38d886b4cf49403ca282d39dc9549705",
            "2b86e8a4c8ea4e159fc3b5f65f8ebb6e"
          ]
        },
        "outputId": "806f9434-db58-407f-9337-134224c0642e"
      },
      "execution_count": null,
      "outputs": [
        {
          "output_type": "display_data",
          "data": {
            "text/plain": [
              "Iterating Nodes: 0it [00:00, ?it/s]"
            ],
            "application/vnd.jupyter.widget-view+json": {
              "version_major": 2,
              "version_minor": 0,
              "model_id": "288470811cb0407ca0f4b13a67374bc7"
            }
          },
          "metadata": {}
        }
      ]
    },
    {
      "cell_type": "code",
      "source": [
        "deepwalk_model=Word2Vec(sentences=random_walks,window=5,sg=1,negative=5,vector_size=128,epochs=20,compute_loss=True)"
      ],
      "metadata": {
        "id": "1ePutBdHwjHS",
        "colab": {
          "base_uri": "https://localhost:8080/",
          "height": 328
        },
        "outputId": "dbb42b6f-1533-41d4-fda0-a0af3e803fba"
      },
      "execution_count": null,
      "outputs": [
        {
          "output_type": "error",
          "ename": "RuntimeError",
          "evalue": "ignored",
          "traceback": [
            "\u001b[0;31m---------------------------------------------------------------------------\u001b[0m",
            "\u001b[0;31mRuntimeError\u001b[0m                              Traceback (most recent call last)",
            "\u001b[0;32m<ipython-input-43-514699eba3aa>\u001b[0m in \u001b[0;36m<cell line: 1>\u001b[0;34m()\u001b[0m\n\u001b[0;32m----> 1\u001b[0;31m \u001b[0mdeepwalk_model\u001b[0m\u001b[0;34m=\u001b[0m\u001b[0mWord2Vec\u001b[0m\u001b[0;34m(\u001b[0m\u001b[0msentences\u001b[0m\u001b[0;34m=\u001b[0m\u001b[0mrandom_walks\u001b[0m\u001b[0;34m,\u001b[0m\u001b[0mwindow\u001b[0m\u001b[0;34m=\u001b[0m\u001b[0;36m5\u001b[0m\u001b[0;34m,\u001b[0m\u001b[0msg\u001b[0m\u001b[0;34m=\u001b[0m\u001b[0;36m1\u001b[0m\u001b[0;34m,\u001b[0m\u001b[0mnegative\u001b[0m\u001b[0;34m=\u001b[0m\u001b[0;36m5\u001b[0m\u001b[0;34m,\u001b[0m\u001b[0mvector_size\u001b[0m\u001b[0;34m=\u001b[0m\u001b[0;36m128\u001b[0m\u001b[0;34m,\u001b[0m\u001b[0mepochs\u001b[0m\u001b[0;34m=\u001b[0m\u001b[0;36m20\u001b[0m\u001b[0;34m,\u001b[0m\u001b[0mcompute_loss\u001b[0m\u001b[0;34m=\u001b[0m\u001b[0;32mTrue\u001b[0m\u001b[0;34m)\u001b[0m\u001b[0;34m\u001b[0m\u001b[0;34m\u001b[0m\u001b[0m\n\u001b[0m",
            "\u001b[0;32m/usr/local/lib/python3.10/dist-packages/gensim/models/word2vec.py\u001b[0m in \u001b[0;36m__init__\u001b[0;34m(self, sentences, corpus_file, vector_size, alpha, window, min_count, max_vocab_size, sample, seed, workers, min_alpha, sg, hs, negative, ns_exponent, cbow_mean, hashfxn, epochs, null_word, trim_rule, sorted_vocab, batch_words, compute_loss, callbacks, comment, max_final_vocab, shrink_windows)\u001b[0m\n\u001b[1;32m    428\u001b[0m             \u001b[0mself\u001b[0m\u001b[0;34m.\u001b[0m\u001b[0m_check_corpus_sanity\u001b[0m\u001b[0;34m(\u001b[0m\u001b[0mcorpus_iterable\u001b[0m\u001b[0;34m=\u001b[0m\u001b[0mcorpus_iterable\u001b[0m\u001b[0;34m,\u001b[0m \u001b[0mcorpus_file\u001b[0m\u001b[0;34m=\u001b[0m\u001b[0mcorpus_file\u001b[0m\u001b[0;34m,\u001b[0m \u001b[0mpasses\u001b[0m\u001b[0;34m=\u001b[0m\u001b[0;34m(\u001b[0m\u001b[0mepochs\u001b[0m \u001b[0;34m+\u001b[0m \u001b[0;36m1\u001b[0m\u001b[0;34m)\u001b[0m\u001b[0;34m)\u001b[0m\u001b[0;34m\u001b[0m\u001b[0;34m\u001b[0m\u001b[0m\n\u001b[1;32m    429\u001b[0m             \u001b[0mself\u001b[0m\u001b[0;34m.\u001b[0m\u001b[0mbuild_vocab\u001b[0m\u001b[0;34m(\u001b[0m\u001b[0mcorpus_iterable\u001b[0m\u001b[0;34m=\u001b[0m\u001b[0mcorpus_iterable\u001b[0m\u001b[0;34m,\u001b[0m \u001b[0mcorpus_file\u001b[0m\u001b[0;34m=\u001b[0m\u001b[0mcorpus_file\u001b[0m\u001b[0;34m,\u001b[0m \u001b[0mtrim_rule\u001b[0m\u001b[0;34m=\u001b[0m\u001b[0mtrim_rule\u001b[0m\u001b[0;34m)\u001b[0m\u001b[0;34m\u001b[0m\u001b[0;34m\u001b[0m\u001b[0m\n\u001b[0;32m--> 430\u001b[0;31m             self.train(\n\u001b[0m\u001b[1;32m    431\u001b[0m                 \u001b[0mcorpus_iterable\u001b[0m\u001b[0;34m=\u001b[0m\u001b[0mcorpus_iterable\u001b[0m\u001b[0;34m,\u001b[0m \u001b[0mcorpus_file\u001b[0m\u001b[0;34m=\u001b[0m\u001b[0mcorpus_file\u001b[0m\u001b[0;34m,\u001b[0m \u001b[0mtotal_examples\u001b[0m\u001b[0;34m=\u001b[0m\u001b[0mself\u001b[0m\u001b[0;34m.\u001b[0m\u001b[0mcorpus_count\u001b[0m\u001b[0;34m,\u001b[0m\u001b[0;34m\u001b[0m\u001b[0;34m\u001b[0m\u001b[0m\n\u001b[1;32m    432\u001b[0m                 \u001b[0mtotal_words\u001b[0m\u001b[0;34m=\u001b[0m\u001b[0mself\u001b[0m\u001b[0;34m.\u001b[0m\u001b[0mcorpus_total_words\u001b[0m\u001b[0;34m,\u001b[0m \u001b[0mepochs\u001b[0m\u001b[0;34m=\u001b[0m\u001b[0mself\u001b[0m\u001b[0;34m.\u001b[0m\u001b[0mepochs\u001b[0m\u001b[0;34m,\u001b[0m \u001b[0mstart_alpha\u001b[0m\u001b[0;34m=\u001b[0m\u001b[0mself\u001b[0m\u001b[0;34m.\u001b[0m\u001b[0malpha\u001b[0m\u001b[0;34m,\u001b[0m\u001b[0;34m\u001b[0m\u001b[0;34m\u001b[0m\u001b[0m\n",
            "\u001b[0;32m/usr/local/lib/python3.10/dist-packages/gensim/models/word2vec.py\u001b[0m in \u001b[0;36mtrain\u001b[0;34m(self, corpus_iterable, corpus_file, total_examples, total_words, epochs, start_alpha, end_alpha, word_count, queue_factor, report_delay, compute_loss, callbacks, **kwargs)\u001b[0m\n\u001b[1;32m   1043\u001b[0m         \u001b[0mself\u001b[0m\u001b[0;34m.\u001b[0m\u001b[0mepochs\u001b[0m \u001b[0;34m=\u001b[0m \u001b[0mepochs\u001b[0m\u001b[0;34m\u001b[0m\u001b[0;34m\u001b[0m\u001b[0m\n\u001b[1;32m   1044\u001b[0m \u001b[0;34m\u001b[0m\u001b[0m\n\u001b[0;32m-> 1045\u001b[0;31m         \u001b[0mself\u001b[0m\u001b[0;34m.\u001b[0m\u001b[0m_check_training_sanity\u001b[0m\u001b[0;34m(\u001b[0m\u001b[0mepochs\u001b[0m\u001b[0;34m=\u001b[0m\u001b[0mepochs\u001b[0m\u001b[0;34m,\u001b[0m \u001b[0mtotal_examples\u001b[0m\u001b[0;34m=\u001b[0m\u001b[0mtotal_examples\u001b[0m\u001b[0;34m,\u001b[0m \u001b[0mtotal_words\u001b[0m\u001b[0;34m=\u001b[0m\u001b[0mtotal_words\u001b[0m\u001b[0;34m)\u001b[0m\u001b[0;34m\u001b[0m\u001b[0;34m\u001b[0m\u001b[0m\n\u001b[0m\u001b[1;32m   1046\u001b[0m         \u001b[0mself\u001b[0m\u001b[0;34m.\u001b[0m\u001b[0m_check_corpus_sanity\u001b[0m\u001b[0;34m(\u001b[0m\u001b[0mcorpus_iterable\u001b[0m\u001b[0;34m=\u001b[0m\u001b[0mcorpus_iterable\u001b[0m\u001b[0;34m,\u001b[0m \u001b[0mcorpus_file\u001b[0m\u001b[0;34m=\u001b[0m\u001b[0mcorpus_file\u001b[0m\u001b[0;34m,\u001b[0m \u001b[0mpasses\u001b[0m\u001b[0;34m=\u001b[0m\u001b[0mepochs\u001b[0m\u001b[0;34m)\u001b[0m\u001b[0;34m\u001b[0m\u001b[0;34m\u001b[0m\u001b[0m\n\u001b[1;32m   1047\u001b[0m \u001b[0;34m\u001b[0m\u001b[0m\n",
            "\u001b[0;32m/usr/local/lib/python3.10/dist-packages/gensim/models/word2vec.py\u001b[0m in \u001b[0;36m_check_training_sanity\u001b[0;34m(self, epochs, total_examples, total_words, **kwargs)\u001b[0m\n\u001b[1;32m   1552\u001b[0m \u001b[0;34m\u001b[0m\u001b[0m\n\u001b[1;32m   1553\u001b[0m         \u001b[0;32mif\u001b[0m \u001b[0;32mnot\u001b[0m \u001b[0mself\u001b[0m\u001b[0;34m.\u001b[0m\u001b[0mwv\u001b[0m\u001b[0;34m.\u001b[0m\u001b[0mkey_to_index\u001b[0m\u001b[0;34m:\u001b[0m  \u001b[0;31m# should be set by `build_vocab`\u001b[0m\u001b[0;34m\u001b[0m\u001b[0;34m\u001b[0m\u001b[0m\n\u001b[0;32m-> 1554\u001b[0;31m             \u001b[0;32mraise\u001b[0m \u001b[0mRuntimeError\u001b[0m\u001b[0;34m(\u001b[0m\u001b[0;34m\"you must first build vocabulary before training the model\"\u001b[0m\u001b[0;34m)\u001b[0m\u001b[0;34m\u001b[0m\u001b[0;34m\u001b[0m\u001b[0m\n\u001b[0m\u001b[1;32m   1555\u001b[0m         \u001b[0;32mif\u001b[0m \u001b[0;32mnot\u001b[0m \u001b[0mlen\u001b[0m\u001b[0;34m(\u001b[0m\u001b[0mself\u001b[0m\u001b[0;34m.\u001b[0m\u001b[0mwv\u001b[0m\u001b[0;34m.\u001b[0m\u001b[0mvectors\u001b[0m\u001b[0;34m)\u001b[0m\u001b[0;34m:\u001b[0m\u001b[0;34m\u001b[0m\u001b[0;34m\u001b[0m\u001b[0m\n\u001b[1;32m   1556\u001b[0m             \u001b[0;32mraise\u001b[0m \u001b[0mRuntimeError\u001b[0m\u001b[0;34m(\u001b[0m\u001b[0;34m\"you must initialize vectors before training the model\"\u001b[0m\u001b[0;34m)\u001b[0m\u001b[0;34m\u001b[0m\u001b[0;34m\u001b[0m\u001b[0m\n",
            "\u001b[0;31mRuntimeError\u001b[0m: you must first build vocabulary before training the model"
          ]
        }
      ]
    },
    {
      "cell_type": "code",
      "source": [
        "deepwalk_model.save(\"deepwalk_biblography.model\")"
      ],
      "metadata": {
        "id": "ZVMlGIWExDEO",
        "colab": {
          "base_uri": "https://localhost:8080/",
          "height": 179
        },
        "outputId": "b565a9f7-ef75-4fe7-ce93-f8859566f7f0"
      },
      "execution_count": null,
      "outputs": [
        {
          "output_type": "error",
          "ename": "NameError",
          "evalue": "ignored",
          "traceback": [
            "\u001b[0;31m---------------------------------------------------------------------------\u001b[0m",
            "\u001b[0;31mNameError\u001b[0m                                 Traceback (most recent call last)",
            "\u001b[0;32m<ipython-input-34-b13f83a2e4a0>\u001b[0m in \u001b[0;36m<cell line: 1>\u001b[0;34m()\u001b[0m\n\u001b[0;32m----> 1\u001b[0;31m \u001b[0mdeepwalk_model\u001b[0m\u001b[0;34m.\u001b[0m\u001b[0msave\u001b[0m\u001b[0;34m(\u001b[0m\u001b[0;34m\"deepwalk_biblography.model\"\u001b[0m\u001b[0;34m)\u001b[0m\u001b[0;34m\u001b[0m\u001b[0;34m\u001b[0m\u001b[0m\n\u001b[0m",
            "\u001b[0;31mNameError\u001b[0m: name 'deepwalk_model' is not defined"
          ]
        }
      ]
    },
    {
      "cell_type": "markdown",
      "source": [
        "#Lets Look who are similar authors"
      ],
      "metadata": {
        "id": "ZgNrp8qIxfD2"
      }
    },
    {
      "cell_type": "code",
      "source": [
        "def getSimilarNodes(model,node):\n",
        "    \"\"\"\n",
        "    This function takes deepwalk model and a node\n",
        "\n",
        "    Returns the top 10 nodes (author) similar to the given node\n",
        "    \"\"\"\n",
        "    similarity=model.wv.most_similar(node)\n",
        "    similar_nodes=pd.DataFrame()\n",
        "    similar_nodes['Similar_Node']=[row[0] for i,row in enumerate(similarity)]\n",
        "    similar_nodes['Similarity_Score']=[row[1] for i,row in enumerate(similarity)]\n",
        "    similar_nodes['Source_Node']=node\n",
        "    return similar_nodes"
      ],
      "metadata": {
        "id": "FdvO_5FBxo0C"
      },
      "execution_count": null,
      "outputs": []
    },
    {
      "cell_type": "code",
      "source": [
        "getSimilarNodes(deepwalk_model,\"ali\")"
      ],
      "metadata": {
        "id": "V5DGMBhDxw7S",
        "colab": {
          "base_uri": "https://localhost:8080/",
          "height": 179
        },
        "outputId": "6afafde7-9d65-4bb1-f513-e56257f520b2"
      },
      "execution_count": null,
      "outputs": [
        {
          "output_type": "error",
          "ename": "NameError",
          "evalue": "ignored",
          "traceback": [
            "\u001b[0;31m---------------------------------------------------------------------------\u001b[0m",
            "\u001b[0;31mNameError\u001b[0m                                 Traceback (most recent call last)",
            "\u001b[0;32m<ipython-input-36-ee627308ef6d>\u001b[0m in \u001b[0;36m<cell line: 1>\u001b[0;34m()\u001b[0m\n\u001b[0;32m----> 1\u001b[0;31m \u001b[0mgetSimilarNodes\u001b[0m\u001b[0;34m(\u001b[0m\u001b[0mdeepwalk_model\u001b[0m\u001b[0;34m,\u001b[0m\u001b[0;34m\"ali\"\u001b[0m\u001b[0;34m)\u001b[0m\u001b[0;34m\u001b[0m\u001b[0;34m\u001b[0m\u001b[0m\n\u001b[0m",
            "\u001b[0;31mNameError\u001b[0m: name 'deepwalk_model' is not defined"
          ]
        }
      ]
    },
    {
      "cell_type": "code",
      "source": [
        "ai_authors=pd.DataFrame(data['Author_split'].tolist()).rename(columns={0:'Author_split'})\n",
        "papers_by_authors=ai_authors.groupby(['Author_split']).size().reset_index().rename(columns={0:'Number of Papers Published'}).sort_values(\"Number of Papers Published\",ascending=False)\n",
        "papers_by_authors"
      ],
      "metadata": {
        "id": "hNCV39Bo1yjR"
      },
      "execution_count": null,
      "outputs": []
    },
    {
      "cell_type": "code",
      "source": [
        "def flattenList(nested_list):\n",
        "    flat_list = [item for sublist in nested_list for item in sublist]\n",
        "    return flat_list"
      ],
      "metadata": {
        "id": "C4xUCDn-G6Lb"
      },
      "execution_count": null,
      "outputs": []
    },
    {
      "cell_type": "code",
      "source": [
        "#Lets get the graph of these top Authors with their first step neighbours.We consider the authors ranked 4th to 10th to help visualise the clusters better\n",
        "def getCoAuthorshipNetwork(graph,initial_nodes):\n",
        "    \"\"\"\n",
        "    This function takes a Graph and list of initial nodes\n",
        "\n",
        "    Returns the set of immediate neighbours of these nodes\n",
        "\n",
        "    \"\"\"\n",
        "    total_neighbours=0\n",
        "    nodes_set=[initial_nodes]\n",
        "    for node in initial_nodes:\n",
        "        #print(node)\n",
        "        neighbours=list(graph.neighbors(node))\n",
        "        total_neighbours=total_neighbours+len(neighbours)\n",
        "\n",
        "        nodes_set.append(neighbours)\n",
        "    print(total_neighbours)\n",
        "    nodes_set=flattenList(nodes_set)\n",
        "    return list(set(nodes_set))"
      ],
      "metadata": {
        "id": "I4boRFFIGbuY"
      },
      "execution_count": null,
      "outputs": []
    },
    {
      "cell_type": "code",
      "source": [
        "coauthor_nodes=getCoAuthorshipNetwork(G,papers_by_authors['Author_split'].tolist()[4:10])\n",
        "print(\"Number of CoAuthor Nodes \",len(coauthor_nodes))"
      ],
      "metadata": {
        "id": "VOENoM3oHARo"
      },
      "execution_count": null,
      "outputs": []
    },
    {
      "cell_type": "markdown",
      "source": [
        "Generate a Co-Author Graph from the complete Graph"
      ],
      "metadata": {
        "id": "egc6_bL5HXgu"
      }
    },
    {
      "cell_type": "code",
      "source": [
        "coauthor_subgraph=nx.subgraph(G,coauthor_nodes)\n",
        "print(\"number of edges in the CoAuthor Subgraph \",len(coauthor_subgraph.edges()))"
      ],
      "metadata": {
        "id": "FYoAUcREHZa6"
      },
      "execution_count": null,
      "outputs": []
    },
    {
      "cell_type": "code",
      "source": [
        "nx.write_gexf(coauthor_subgraph, \"CoAuthor_Subgraph_Author4to10.gexf\")"
      ],
      "metadata": {
        "id": "H7OyQAyCHev9"
      },
      "execution_count": null,
      "outputs": []
    },
    {
      "cell_type": "code",
      "source": [
        "#coauthor_subgraph=nx.read_gexf(\"CoAuthor_Subgraph_Top50Author.gexf\")\n",
        "print(\"number of edges in the CoAuthor Subgraph \",len(coauthor_subgraph.edges()))"
      ],
      "metadata": {
        "id": "3xyMeeQCHh3o"
      },
      "execution_count": null,
      "outputs": []
    },
    {
      "cell_type": "code",
      "source": [
        "pyvis_nt=Network(notebook=True,height='800px', width='100%',heading='', cdn_resources='in_line')\n",
        "\n",
        "print(\"Creating PyVis from NetworkX\")\n",
        "pyvis_nt.from_nx(coauthor_subgraph)\n",
        "\n",
        "print(\"Saving PyVis Graph\")\n",
        "pyvis_nt.show(\"Author4to10_CoAuthorGraph.html\")"
      ],
      "metadata": {
        "id": "4tQxK5TVHpxB"
      },
      "execution_count": null,
      "outputs": []
    },
    {
      "cell_type": "markdown",
      "source": [
        "Cluster the Nodes"
      ],
      "metadata": {
        "id": "XdXbAMr6IRUI"
      }
    },
    {
      "cell_type": "code",
      "source": [
        "def getCosineDistanceMatrix(vectors):\n",
        "    '''\n",
        "    This function takes list of vectors or numpy array\n",
        "\n",
        "    Returns the pairwise cosine similarity matrix\n",
        "    '''\n",
        "    if type(vectors)==list:\n",
        "        X=np.asarray(vectors)\n",
        "    elif type(vectors)==np.ndarray:\n",
        "        X=vectors\n",
        "    else:\n",
        "        print(\"Error in Data Type . Need to Pass list or numpy array as input argument\")\n",
        "        return []\n",
        "    cosine_dist=cosine_distances(X)\n",
        "    return cosine_dist"
      ],
      "metadata": {
        "id": "Qy0LL5gpH4I5"
      },
      "execution_count": null,
      "outputs": []
    },
    {
      "cell_type": "code",
      "source": [
        "coauthor_nodes=list(coauthor_subgraph.nodes)\n",
        "print(\"Number of CoAuthor Subgraph Nodes\",len(coauthor_nodes))"
      ],
      "metadata": {
        "id": "1DP5mFtcIYk3"
      },
      "execution_count": null,
      "outputs": []
    },
    {
      "cell_type": "code",
      "source": [
        "coauthor_embeddings=[deepwalk_model.wv[node] for node in coauthor_nodes]\n",
        "coauthor_embeddings=np.asarray(coauthor_embeddings)\n",
        "print(coauthor_embeddings.shape)\n",
        "cosine_dist=getCosineDistanceMatrix(coauthor_embeddings)"
      ],
      "metadata": {
        "id": "0w4_4B3vIfaP"
      },
      "execution_count": null,
      "outputs": []
    },
    {
      "cell_type": "code",
      "source": [
        "#K-mean for optimal number of clusters\n",
        "sse=[]\n",
        "k_list=[]\n",
        "for k in range(2,20):\n",
        "\n",
        "    km=KMeans(n_clusters=k)\n",
        "    km.fit(cosine_dist)\n",
        "    sse.append(km.inertia_)"
      ],
      "metadata": {
        "id": "UJnNGEKFInfU"
      },
      "execution_count": null,
      "outputs": []
    },
    {
      "cell_type": "code",
      "source": [
        "plt.figure(figsize=(12,6))\n",
        "plt.plot([i for i in range(2,20)],sse)"
      ],
      "metadata": {
        "id": "6alftvHqI3af"
      },
      "execution_count": null,
      "outputs": []
    },
    {
      "cell_type": "code",
      "source": [
        "#from figure lets pick 8 clusters\n",
        "km=KMeans(n_clusters=8)\n",
        "coauthor_clusters=km.fit_predict(cosine_dist)\n",
        "coauthor_cluster_dict={node:str(coauthor_clusters[idx]) for idx,node in enumerate(coauthor_nodes)}\n",
        "nx.set_node_attributes(coauthor_subgraph,coauthor_cluster_dict,\"group\")"
      ],
      "metadata": {
        "id": "pevvrSy7I_Yp"
      },
      "execution_count": null,
      "outputs": []
    },
    {
      "cell_type": "code",
      "source": [
        "pyvis_nt=Network(notebook=True,height='600px', width='100%',heading='Author Network', cdn_resources='in_line')\n",
        "\n",
        "print(\"Creating PyVis from NetworkX\")\n",
        "pyvis_nt.from_nx(coauthor_subgraph)\n",
        "pyvis_nt.toggle_physics(True)\n",
        "print(\"Saving PyVis Graph\")\n",
        "#pyvis_nt.show_buttons()\n",
        "#pyvis_nt.set_options('var options = {\"edges\": { \"color\": { \"inherit\": true },\"smooth\": false},\"physics\": {\"hierarchicalRepulsion\": { \"centralGravity\": 0 },\"minVelocity\": 0.75, \"solver\": \"hierarchicalRepulsion\",\"timestep\": 0.18}}')\n",
        "\n",
        "\n",
        "pyvis_nt.show(\"Author4to10_CoAuthorGraph_Clustered.html\")\n"
      ],
      "metadata": {
        "id": "-u3zxErZJO4x"
      },
      "execution_count": null,
      "outputs": []
    },
    {
      "cell_type": "markdown",
      "source": [
        "Visualising El hassan Network"
      ],
      "metadata": {
        "id": "kL8m7dHVJb3d"
      }
    },
    {
      "cell_type": "code",
      "source": [
        "el_hassan_nodes=getCoAuthorshipNetwork(G,['el hassan'])\n",
        "el_hassan_network=nx.subgraph(G,el_hassan_nodes)\n",
        "print(\"Number of Nodes in El hassan Network \",len(el_hassan_network.nodes()))\n",
        "print(\"Number of Edges in El hassan Network \",len(el_hassan_network.edges()))"
      ],
      "metadata": {
        "id": "DEgKYjg6Jc0J"
      },
      "execution_count": null,
      "outputs": []
    },
    {
      "cell_type": "code",
      "source": [
        "el_hassan_nt=Network(notebook=True,height='800px', width='100%',heading='El hassan Network', cdn_resources='in_line')\n",
        "\n",
        "print(\"Creating PyVis from NetworkX\")\n",
        "el_hassan_nt.from_nx(el_hassan_network)\n",
        "el_hassan_nt.toggle_physics(True)\n",
        "#el_hassan_nt.enable_physics(True)\n",
        "print(\"Saving PyVis Graph\")\n",
        "\n",
        "el_hassan_nt.show_buttons()\n",
        "el_hassan_nt.show(\"El hassan_CoAuthorGraph.html\")"
      ],
      "metadata": {
        "id": "5BF0LBmFJs5k"
      },
      "execution_count": null,
      "outputs": []
    }
  ]
}